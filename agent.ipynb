{
 "cells": [
  {
   "cell_type": "code",
   "execution_count": null,
   "metadata": {
    "vscode": {
     "languageId": "plaintext"
    }
   },
   "outputs": [],
   "source": [
    "from agno.agent import Agent\n",
    "from agno.models.google import Gemini\n",
    "# from agno.models.openai import OpenAIChat\n",
    "from agno.tools.reasoning import ReasoningTools\n",
    "from agno.tools.yfinance import YFinanceTools\n",
    "\n",
    "from dotenv import load_dotenv\n",
    "load_dotenv()\n",
    "agent=Agent(\n",
    "    model=Gemini(id=\"gemini-2.0-flash\"),\n",
    "    # model=OpenAIChat(id=\"gpt-4o\"),\n",
    "    tools=[\n",
    "        ReasoningTools(add_instructions=True),\n",
    "        YFinanceTools(stock_price=True,analyst_recommendations=True,company_info=True,company_news=True),\n",
    "    \n",
    "    ],\n",
    "    instructions=[\n",
    "        \"Use tables to display data\",\n",
    "        \"Only output the report,no other text\",\n",
    "        ],\n",
    "    markdown=True\n",
    ")\n",
    "agent.print_response(message=\"Write a report on NVDA\",stream=True, show_full_reasoning=True, stream_intermediate_steps=True)"
   ]
  }
 ],
 "metadata": {
  "language_info": {
   "name": "python"
  }
 },
 "nbformat": 4,
 "nbformat_minor": 5
}
